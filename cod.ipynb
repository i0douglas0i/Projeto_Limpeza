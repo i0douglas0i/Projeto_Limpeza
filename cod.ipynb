{
 "cells": [
  {
   "cell_type": "code",
   "execution_count": 134,
   "metadata": {},
   "outputs": [],
   "source": [
    "\n",
    "import pandas as pd  # MANIPULAR DADOS\n",
    "import numpy as np # MANIPULAR CALCULOS NÚMERICOS\n",
    "import matplotlib.pyplot as plt # MANIPULAR GRÁFICO\n",
    "import os # MANIPULAR PASTAS\n",
    "import warnings # MANIPULAR MENSAGENS DE AVISO DURANTE A EXECUÇÃO DO PROGRAMA \n",
    "\n",
    "\n",
    "\n",
    "\n",
    "## IMPORTANDO OS DADOS\n",
    "\n",
    "clientes = pd.read_csv('olist_customers_dataset.csv')\n",
    "vendedores = pd.read_csv('olist_sellers_dataset.csv')\n",
    "geolocalizaçao = pd.read_csv('olist_geolocation_dataset.csv')\n",
    "itens_ordem = pd.read_csv('olist_order_items_dataset.csv')\n",
    "pedidos_pagamentos = pd.read_csv('olist_order_payments_dataset.csv')\n",
    "comentarios_pedido = pd.read_csv('olist_order_reviews_dataset.csv')\n",
    "pedidos = pd.read_csv('olist_orders_dataset.csv')\n",
    "produtos = pd.read_csv('olist_products_dataset.csv')\n",
    "nome_categoria_produto = pd.read_csv('product_category_name_translation.csv')\n",
    "\n",
    "\n"
   ]
  },
  {
   "cell_type": "markdown",
   "metadata": {},
   "source": [
    "## Mesclando conjuntos de dados:\n",
    "\n",
    "### Mesclando essas tabelas:\n",
    "\n",
    "* clientes\n",
    "* vendedores\n",
    "* geolocalização \n",
    "* itens_ordem\n",
    "* pedidos_pagamentos\n",
    "* comentários_pedido\n",
    "* pedidos\n",
    "* produtos\n",
    "* nome_categoria_produto\n"
   ]
  },
  {
   "cell_type": "code",
   "execution_count": 135,
   "metadata": {},
   "outputs": [],
   "source": [
    "\n",
    "\n",
    "#MESCLANDO CONJUNTOS DE DADOS \n",
    "\n",
    "\n",
    "pedido_itens_produtos = pd.merge(itens_ordem,produtos,on='product_id',how='outer')\n",
    "pedidos_itens_produtos_vendedores = pd.merge(pedido_itens_produtos,vendedores, on='seller_id',how='outer')\n",
    "dois_pedidos_items_produtos_vendedores = pd.merge(pedidos_itens_produtos_vendedores,pedidos,on='order_id',how='outer')\n",
    "dois_pedidos_items_produtos_vendedores_clientes = pd.merge(dois_pedidos_items_produtos_vendedores,clientes,on='customer_id',how='outer')\n",
    "dois_pedidos_items_produtos_vendedores_clientes_comentario = pd.merge(dois_pedidos_items_produtos_vendedores_clientes,comentarios_pedido,on='order_id',how='outer')\n",
    "dois_pedidos_items_produtos_vendedores_clientes_comentarios_pagamentos = pd.merge(dois_pedidos_items_produtos_vendedores_clientes_comentario,pedidos_pagamentos,on='order_id',how='outer')\n",
    "\n",
    "dois_pedidos_items_produtos_vendedores_clientes_comentario_pagamentos_categoria = dois_pedidos_items_produtos_vendedores_clientes_comentarios_pagamentos.merge(nome_categoria_produto, on='product_category_name', how='left')\n",
    "nome_categoria_produto = pd.read_csv('product_category_name_translation.csv')\n",
    "dois_pedidos_items_produtos_vendedores_clientes_comentario_pagamentos_categoria[''] = dois_pedidos_items_produtos_vendedores_clientes_comentario_pagamentos_categoria['product_category_name']\n",
    "nome_categoria_produto = pd.read_csv('product_category_name_translation.csv')\n",
    "dois_pedidos_items_produtos_vendedores_clientes_comentario_pagamentos_categoria.drop([''], axis=1, inplace=True)"
   ]
  },
  {
   "cell_type": "code",
   "execution_count": 136,
   "metadata": {},
   "outputs": [
    {
     "data": {
      "text/plain": [
       "review_id                      0\n",
       "order_id                       0\n",
       "review_score                   0\n",
       "review_comment_title       87656\n",
       "review_comment_message     58247\n",
       "review_creation_date           0\n",
       "review_answer_timestamp        0\n",
       "dtype: int64"
      ]
     },
     "execution_count": 136,
     "metadata": {},
     "output_type": "execute_result"
    }
   ],
   "source": [
    "# MESCLANDO O CONJUNTO DE DADOS DE GEOLOCALIZAÇÃO COM O DATAFRAME.\n",
    "\n",
    "comentarios_pedido.isnull().sum()\n"
   ]
  },
  {
   "cell_type": "code",
   "execution_count": 137,
   "metadata": {},
   "outputs": [
    {
     "data": {
      "text/plain": [
       "<bound method NDFrame._add_numeric_operations.<locals>.sum of 0          False\n",
       "1          False\n",
       "2          False\n",
       "3          False\n",
       "4          False\n",
       "           ...  \n",
       "1000158    False\n",
       "1000159     True\n",
       "1000160     True\n",
       "1000161    False\n",
       "1000162     True\n",
       "Length: 1000163, dtype: bool>"
      ]
     },
     "execution_count": 137,
     "metadata": {},
     "output_type": "execute_result"
    }
   ],
   "source": [
    "# ENCONTRANDO OS NÚMEROS DE LINHAS REDUNDANTES\n",
    "\n",
    "geolocalizaçao.duplicated().sum \n",
    "\n"
   ]
  },
  {
   "cell_type": "code",
   "execution_count": 138,
   "metadata": {},
   "outputs": [],
   "source": [
    "# REMOVENDO LINHAS REDUNDANTES\n",
    "\n",
    "geolocalizaçao = geolocalizaçao.drop_duplicates()"
   ]
  },
  {
   "cell_type": "code",
   "execution_count": 139,
   "metadata": {},
   "outputs": [],
   "source": [
    "# CALCULA MÉDIA LAT. E MÉDIA LON. COM BASE NA COLUNA DO ARQUIVO olis_geolocation_dataset.csv\n",
    "\n",
    "media_lat = geolocalizaçao.groupby('geolocation_zip_code_prefix')['geolocation_lat'].mean().reset_index()\n",
    "media_long = geolocalizaçao.groupby('geolocation_zip_code_prefix')['geolocation_lng'].mean().reset_index()\n",
    "\n",
    "media_lat.rename(columns={'geolocation_lat': 'media_lat'}, inplace=True)\n",
    "media_long.rename(columns={'geolocation_lng': 'media_long'}, inplace=True)\n",
    "\n",
    "geolocalizaçao_necessaria = pd.merge(media_lat, media_long, on='geolocation_zip_code_prefix')"
   ]
  },
  {
   "cell_type": "code",
   "execution_count": 140,
   "metadata": {},
   "outputs": [],
   "source": [
    "display()"
   ]
  },
  {
   "cell_type": "code",
   "execution_count": 141,
   "metadata": {},
   "outputs": [],
   "source": [
    "# ADICIONANDO vendedor_lat e vendedor_long AO DATAFRAME.\n",
    "\n",
    "dois_pedidos_items_produtos_vendedores_clientes_comentarios_pagamentos_categoria_vendedorloc  = pd.merge(dois_pedidos_items_produtos_vendedores_clientes_comentario_pagamentos_categoria, geolocalizaçao_necessaria, left_on='seller_zip_code_prefix', right_on='geolocation_zip_code_prefix')\n",
    "dois_pedidos_items_produtos_vendedores_clientes_comentarios_pagamentos_categoria_vendedorloc.rename(columns={\n",
    "    'media_lat' : 'seller_lat',\n",
    "    'media_long' : 'seller_lng'\n",
    "}, inplace=True)\n",
    "\n",
    "dois_pedidos_items_produtos_vendedores_clientes_comentarios_pagamentos_categoria_vendedorloc.drop(['geolocation_zip_code_prefix'], axis=1, inplace=True)"
   ]
  },
  {
   "cell_type": "code",
   "execution_count": 142,
   "metadata": {},
   "outputs": [],
   "source": [
    "# ADICIONADO cliente_lar E cliente_long AO DATAFRAME\n",
    "\n",
    "dois_pedidos_items_produtos_vendedores_clientes_comentarios_pagamentos_categoria_clienteloc = pd.merge(dois_pedidos_items_produtos_vendedores_clientes_comentarios_pagamentos_categoria_vendedorloc, geolocalizaçao_necessaria, left_on='customer_zip_code_prefix', right_on='geolocation_zip_code_prefix')\n",
    "dois_pedidos_items_produtos_vendedores_clientes_comentarios_pagamentos_categoria_clienteloc.rename(columns={\n",
    "    'media_lat' : 'customer_lat',\n",
    "    'media_long' : 'customer_lng'\n",
    "}, inplace=True)\n",
    "\n",
    "dois_pedidos_items_produtos_vendedores_clientes_comentarios_pagamentos_categoria_clienteloc.drop(['geolocation_zip_code_prefix'], axis=1, inplace=True)\n"
   ]
  },
  {
   "cell_type": "code",
   "execution_count": 143,
   "metadata": {},
   "outputs": [],
   "source": [
    "# RENOMEANDO O DATAFRAME, ONDE USAREI df PARA MANIPULAR A BASE DE DADOS\n",
    "\n",
    "df = dois_pedidos_items_produtos_vendedores_clientes_comentarios_pagamentos_categoria_clienteloc\n"
   ]
  },
  {
   "cell_type": "markdown",
   "metadata": {},
   "source": [
    "### LIMPEZA DE DADOS. DEIXANDO O DATAFRAME MAIS LIMPO\n",
    "\n",
    "\n"
   ]
  },
  {
   "cell_type": "code",
   "execution_count": 144,
   "metadata": {},
   "outputs": [
    {
     "data": {
      "text/plain": [
       "(117729, 44)"
      ]
     },
     "execution_count": 144,
     "metadata": {},
     "output_type": "execute_result"
    }
   ],
   "source": [
    "# VERIFICANDO O NÚMERO DE LINHAS E COLUNAS\n",
    "\n",
    "df.shape"
   ]
  },
  {
   "cell_type": "code",
   "execution_count": 145,
   "metadata": {},
   "outputs": [
    {
     "data": {
      "text/plain": [
       "0"
      ]
     },
     "execution_count": 145,
     "metadata": {},
     "output_type": "execute_result"
    }
   ],
   "source": [
    "# VERIFICANDO O  NÚMERO DE LINHA REDUNDANTES\n",
    "\n",
    "df.duplicated().sum()"
   ]
  },
  {
   "cell_type": "code",
   "execution_count": 146,
   "metadata": {},
   "outputs": [
    {
     "data": {
      "text/html": [
       "<div>\n",
       "<style scoped>\n",
       "    .dataframe tbody tr th:only-of-type {\n",
       "        vertical-align: middle;\n",
       "    }\n",
       "\n",
       "    .dataframe tbody tr th {\n",
       "        vertical-align: top;\n",
       "    }\n",
       "\n",
       "    .dataframe thead th {\n",
       "        text-align: right;\n",
       "    }\n",
       "</style>\n",
       "<table border=\"1\" class=\"dataframe\">\n",
       "  <thead>\n",
       "    <tr style=\"text-align: right;\">\n",
       "      <th></th>\n",
       "      <th>order_item_id</th>\n",
       "      <th>price</th>\n",
       "      <th>freight_value</th>\n",
       "      <th>product_name_lenght</th>\n",
       "      <th>product_description_lenght</th>\n",
       "      <th>product_photos_qty</th>\n",
       "      <th>product_weight_g</th>\n",
       "      <th>product_length_cm</th>\n",
       "      <th>product_height_cm</th>\n",
       "      <th>product_width_cm</th>\n",
       "      <th>seller_zip_code_prefix</th>\n",
       "      <th>customer_zip_code_prefix</th>\n",
       "      <th>review_score</th>\n",
       "      <th>payment_sequential</th>\n",
       "      <th>payment_installments</th>\n",
       "      <th>payment_value</th>\n",
       "      <th>seller_lat</th>\n",
       "      <th>seller_lng</th>\n",
       "      <th>customer_lat</th>\n",
       "      <th>customer_lng</th>\n",
       "    </tr>\n",
       "  </thead>\n",
       "  <tbody>\n",
       "    <tr>\n",
       "      <th>count</th>\n",
       "      <td>117729.000000</td>\n",
       "      <td>117729.000000</td>\n",
       "      <td>117729.000000</td>\n",
       "      <td>116027.000000</td>\n",
       "      <td>116027.000000</td>\n",
       "      <td>116027.000000</td>\n",
       "      <td>117709.000000</td>\n",
       "      <td>117709.000000</td>\n",
       "      <td>117709.000000</td>\n",
       "      <td>117709.000000</td>\n",
       "      <td>117729.000000</td>\n",
       "      <td>117729.000000</td>\n",
       "      <td>116753.000000</td>\n",
       "      <td>117726.00000</td>\n",
       "      <td>117726.000000</td>\n",
       "      <td>117726.000000</td>\n",
       "      <td>117729.000000</td>\n",
       "      <td>117729.000000</td>\n",
       "      <td>117729.000000</td>\n",
       "      <td>117729.000000</td>\n",
       "    </tr>\n",
       "    <tr>\n",
       "      <th>mean</th>\n",
       "      <td>1.196714</td>\n",
       "      <td>120.679056</td>\n",
       "      <td>20.025234</td>\n",
       "      <td>48.755298</td>\n",
       "      <td>786.034975</td>\n",
       "      <td>2.200152</td>\n",
       "      <td>2110.795309</td>\n",
       "      <td>30.258264</td>\n",
       "      <td>16.639688</td>\n",
       "      <td>23.066044</td>\n",
       "      <td>24450.500420</td>\n",
       "      <td>34972.072981</td>\n",
       "      <td>4.031323</td>\n",
       "      <td>1.09438</td>\n",
       "      <td>2.941670</td>\n",
       "      <td>172.603062</td>\n",
       "      <td>-22.795932</td>\n",
       "      <td>-47.238924</td>\n",
       "      <td>-21.225672</td>\n",
       "      <td>-46.188938</td>\n",
       "    </tr>\n",
       "    <tr>\n",
       "      <th>std</th>\n",
       "      <td>0.700307</td>\n",
       "      <td>184.316579</td>\n",
       "      <td>15.851303</td>\n",
       "      <td>10.037687</td>\n",
       "      <td>653.215215</td>\n",
       "      <td>1.712939</td>\n",
       "      <td>3781.864132</td>\n",
       "      <td>16.182128</td>\n",
       "      <td>13.464170</td>\n",
       "      <td>11.725142</td>\n",
       "      <td>27580.773111</td>\n",
       "      <td>29811.679837</td>\n",
       "      <td>1.388051</td>\n",
       "      <td>0.73026</td>\n",
       "      <td>2.776889</td>\n",
       "      <td>267.447332</td>\n",
       "      <td>2.689965</td>\n",
       "      <td>2.339823</td>\n",
       "      <td>5.569538</td>\n",
       "      <td>4.044940</td>\n",
       "    </tr>\n",
       "    <tr>\n",
       "      <th>min</th>\n",
       "      <td>1.000000</td>\n",
       "      <td>0.850000</td>\n",
       "      <td>0.000000</td>\n",
       "      <td>5.000000</td>\n",
       "      <td>4.000000</td>\n",
       "      <td>1.000000</td>\n",
       "      <td>0.000000</td>\n",
       "      <td>7.000000</td>\n",
       "      <td>2.000000</td>\n",
       "      <td>6.000000</td>\n",
       "      <td>1001.000000</td>\n",
       "      <td>1003.000000</td>\n",
       "      <td>1.000000</td>\n",
       "      <td>1.00000</td>\n",
       "      <td>0.000000</td>\n",
       "      <td>0.000000</td>\n",
       "      <td>-32.075303</td>\n",
       "      <td>-67.813790</td>\n",
       "      <td>-33.689890</td>\n",
       "      <td>-72.668821</td>\n",
       "    </tr>\n",
       "    <tr>\n",
       "      <th>25%</th>\n",
       "      <td>1.000000</td>\n",
       "      <td>39.900000</td>\n",
       "      <td>13.070000</td>\n",
       "      <td>42.000000</td>\n",
       "      <td>345.000000</td>\n",
       "      <td>1.000000</td>\n",
       "      <td>300.000000</td>\n",
       "      <td>18.000000</td>\n",
       "      <td>8.000000</td>\n",
       "      <td>15.000000</td>\n",
       "      <td>6440.000000</td>\n",
       "      <td>11095.000000</td>\n",
       "      <td>4.000000</td>\n",
       "      <td>1.00000</td>\n",
       "      <td>1.000000</td>\n",
       "      <td>60.750000</td>\n",
       "      <td>-23.607014</td>\n",
       "      <td>-48.829541</td>\n",
       "      <td>-23.589455</td>\n",
       "      <td>-48.097847</td>\n",
       "    </tr>\n",
       "    <tr>\n",
       "      <th>50%</th>\n",
       "      <td>1.000000</td>\n",
       "      <td>74.900000</td>\n",
       "      <td>16.280000</td>\n",
       "      <td>52.000000</td>\n",
       "      <td>600.000000</td>\n",
       "      <td>1.000000</td>\n",
       "      <td>700.000000</td>\n",
       "      <td>25.000000</td>\n",
       "      <td>13.000000</td>\n",
       "      <td>20.000000</td>\n",
       "      <td>13660.000000</td>\n",
       "      <td>24230.000000</td>\n",
       "      <td>5.000000</td>\n",
       "      <td>1.00000</td>\n",
       "      <td>2.000000</td>\n",
       "      <td>108.150000</td>\n",
       "      <td>-23.424361</td>\n",
       "      <td>-46.750925</td>\n",
       "      <td>-22.927686</td>\n",
       "      <td>-46.631157</td>\n",
       "    </tr>\n",
       "    <tr>\n",
       "      <th>75%</th>\n",
       "      <td>1.000000</td>\n",
       "      <td>134.900000</td>\n",
       "      <td>21.180000</td>\n",
       "      <td>57.000000</td>\n",
       "      <td>983.000000</td>\n",
       "      <td>3.000000</td>\n",
       "      <td>1800.000000</td>\n",
       "      <td>38.000000</td>\n",
       "      <td>20.000000</td>\n",
       "      <td>30.000000</td>\n",
       "      <td>27930.000000</td>\n",
       "      <td>58220.000000</td>\n",
       "      <td>5.000000</td>\n",
       "      <td>1.00000</td>\n",
       "      <td>4.000000</td>\n",
       "      <td>189.260000</td>\n",
       "      <td>-21.757225</td>\n",
       "      <td>-46.519097</td>\n",
       "      <td>-20.175876</td>\n",
       "      <td>-43.602700</td>\n",
       "    </tr>\n",
       "    <tr>\n",
       "      <th>max</th>\n",
       "      <td>21.000000</td>\n",
       "      <td>6735.000000</td>\n",
       "      <td>409.680000</td>\n",
       "      <td>76.000000</td>\n",
       "      <td>3992.000000</td>\n",
       "      <td>20.000000</td>\n",
       "      <td>40425.000000</td>\n",
       "      <td>105.000000</td>\n",
       "      <td>105.000000</td>\n",
       "      <td>118.000000</td>\n",
       "      <td>99730.000000</td>\n",
       "      <td>99990.000000</td>\n",
       "      <td>5.000000</td>\n",
       "      <td>29.00000</td>\n",
       "      <td>24.000000</td>\n",
       "      <td>13664.080000</td>\n",
       "      <td>-2.503158</td>\n",
       "      <td>-34.855831</td>\n",
       "      <td>42.184003</td>\n",
       "      <td>-8.723762</td>\n",
       "    </tr>\n",
       "  </tbody>\n",
       "</table>\n",
       "</div>"
      ],
      "text/plain": [
       "       order_item_id          price  freight_value  product_name_lenght  \\\n",
       "count  117729.000000  117729.000000  117729.000000        116027.000000   \n",
       "mean        1.196714     120.679056      20.025234            48.755298   \n",
       "std         0.700307     184.316579      15.851303            10.037687   \n",
       "min         1.000000       0.850000       0.000000             5.000000   \n",
       "25%         1.000000      39.900000      13.070000            42.000000   \n",
       "50%         1.000000      74.900000      16.280000            52.000000   \n",
       "75%         1.000000     134.900000      21.180000            57.000000   \n",
       "max        21.000000    6735.000000     409.680000            76.000000   \n",
       "\n",
       "       product_description_lenght  product_photos_qty  product_weight_g  \\\n",
       "count               116027.000000       116027.000000     117709.000000   \n",
       "mean                   786.034975            2.200152       2110.795309   \n",
       "std                    653.215215            1.712939       3781.864132   \n",
       "min                      4.000000            1.000000          0.000000   \n",
       "25%                    345.000000            1.000000        300.000000   \n",
       "50%                    600.000000            1.000000        700.000000   \n",
       "75%                    983.000000            3.000000       1800.000000   \n",
       "max                   3992.000000           20.000000      40425.000000   \n",
       "\n",
       "       product_length_cm  product_height_cm  product_width_cm  \\\n",
       "count      117709.000000      117709.000000     117709.000000   \n",
       "mean           30.258264          16.639688         23.066044   \n",
       "std            16.182128          13.464170         11.725142   \n",
       "min             7.000000           2.000000          6.000000   \n",
       "25%            18.000000           8.000000         15.000000   \n",
       "50%            25.000000          13.000000         20.000000   \n",
       "75%            38.000000          20.000000         30.000000   \n",
       "max           105.000000         105.000000        118.000000   \n",
       "\n",
       "       seller_zip_code_prefix  customer_zip_code_prefix   review_score  \\\n",
       "count           117729.000000             117729.000000  116753.000000   \n",
       "mean             24450.500420              34972.072981       4.031323   \n",
       "std              27580.773111              29811.679837       1.388051   \n",
       "min               1001.000000               1003.000000       1.000000   \n",
       "25%               6440.000000              11095.000000       4.000000   \n",
       "50%              13660.000000              24230.000000       5.000000   \n",
       "75%              27930.000000              58220.000000       5.000000   \n",
       "max              99730.000000              99990.000000       5.000000   \n",
       "\n",
       "       payment_sequential  payment_installments  payment_value     seller_lat  \\\n",
       "count        117726.00000         117726.000000  117726.000000  117729.000000   \n",
       "mean              1.09438              2.941670     172.603062     -22.795932   \n",
       "std               0.73026              2.776889     267.447332       2.689965   \n",
       "min               1.00000              0.000000       0.000000     -32.075303   \n",
       "25%               1.00000              1.000000      60.750000     -23.607014   \n",
       "50%               1.00000              2.000000     108.150000     -23.424361   \n",
       "75%               1.00000              4.000000     189.260000     -21.757225   \n",
       "max              29.00000             24.000000   13664.080000      -2.503158   \n",
       "\n",
       "          seller_lng   customer_lat   customer_lng  \n",
       "count  117729.000000  117729.000000  117729.000000  \n",
       "mean      -47.238924     -21.225672     -46.188938  \n",
       "std         2.339823       5.569538       4.044940  \n",
       "min       -67.813790     -33.689890     -72.668821  \n",
       "25%       -48.829541     -23.589455     -48.097847  \n",
       "50%       -46.750925     -22.927686     -46.631157  \n",
       "75%       -46.519097     -20.175876     -43.602700  \n",
       "max       -34.855831      42.184003      -8.723762  "
      ]
     },
     "execution_count": 146,
     "metadata": {},
     "output_type": "execute_result"
    }
   ],
   "source": [
    "# RESUMO DAS COLUNAS COM VALORES NÚMERICOS\n",
    "\n",
    "df.describe()"
   ]
  },
  {
   "cell_type": "code",
   "execution_count": 147,
   "metadata": {},
   "outputs": [
    {
     "data": {
      "text/plain": [
       "order_id                              0\n",
       "order_item_id                         0\n",
       "product_id                            0\n",
       "seller_id                             0\n",
       "shipping_limit_date                   0\n",
       "price                                 0\n",
       "freight_value                         0\n",
       "product_category_name              1702\n",
       "product_name_lenght                1702\n",
       "product_description_lenght         1702\n",
       "product_photos_qty                 1702\n",
       "product_weight_g                     20\n",
       "product_length_cm                    20\n",
       "product_height_cm                    20\n",
       "product_width_cm                     20\n",
       "seller_zip_code_prefix                0\n",
       "seller_city                           0\n",
       "seller_state                          0\n",
       "customer_id                           0\n",
       "order_status                          0\n",
       "order_purchase_timestamp              0\n",
       "order_approved_at                    15\n",
       "order_delivered_carrier_date       1243\n",
       "order_delivered_customer_date      2570\n",
       "order_estimated_delivery_date         0\n",
       "customer_unique_id                    0\n",
       "customer_zip_code_prefix              0\n",
       "customer_city                         0\n",
       "customer_state                        0\n",
       "review_id                           976\n",
       "review_score                        976\n",
       "review_comment_title             103903\n",
       "review_comment_message            68277\n",
       "review_creation_date                976\n",
       "review_answer_timestamp             976\n",
       "payment_sequential                    3\n",
       "payment_type                          3\n",
       "payment_installments                  3\n",
       "payment_value                         3\n",
       "product_category_name_english      1727\n",
       "seller_lat                            0\n",
       "seller_lng                            0\n",
       "customer_lat                          0\n",
       "customer_lng                          0\n",
       "dtype: int64"
      ]
     },
     "execution_count": 147,
     "metadata": {},
     "output_type": "execute_result"
    }
   ],
   "source": [
    "# VERIFICANDO O NÚMERO DE NULOS EM CADA COLUNA\n",
    "\n",
    "df.isnull().sum()"
   ]
  },
  {
   "cell_type": "code",
   "execution_count": 148,
   "metadata": {},
   "outputs": [
    {
     "data": {
      "text/plain": [
       "<AxesSubplot:>"
      ]
     },
     "execution_count": 148,
     "metadata": {},
     "output_type": "execute_result"
    },
    {
     "data": {
      "image/png": "[encoded data removed]",
      "text/plain": [
       "<Figure size 640x480 with 1 Axes>"
      ]
     },
     "metadata": {},
     "output_type": "display_data"
    }
   ],
   "source": [
    "df[\"product_name_lenght\"].hist()\n",
    "\n"
   ]
  },
  {
   "cell_type": "code",
   "execution_count": 149,
   "metadata": {},
   "outputs": [
    {
     "data": {
      "text/plain": [
       "59.0"
      ]
     },
     "execution_count": 149,
     "metadata": {},
     "output_type": "execute_result"
    }
   ],
   "source": [
    "# Aqui estou retornando o valor mais frequente da coluna 'product_name_lenght'\n",
    "\n",
    "df['product_name_lenght'].mode()[0]"
   ]
  },
  {
   "cell_type": "code",
   "execution_count": 150,
   "metadata": {},
   "outputs": [],
   "source": [
    "# PREENCHENDO VALORES AUSENTES NA COLUNA product_name_lenght COM O MODO\n",
    "\n",
    "df['product_name_lenght'].fillna(df['product_name_lenght'].mode()[0], inplace=True)\n"
   ]
  },
  {
   "cell_type": "code",
   "execution_count": 151,
   "metadata": {},
   "outputs": [
    {
     "data": {
      "text/plain": [
       "<AxesSubplot:>"
      ]
     },
     "execution_count": 151,
     "metadata": {},
     "output_type": "execute_result"
    },
    {
     "data": {
      "image/png": "[encoded data removed]",
      "text/plain": [
       "<Figure size 640x480 with 1 Axes>"
      ]
     },
     "metadata": {},
     "output_type": "display_data"
    }
   ],
   "source": [
    " # PREENCHENDO VALORES AUSENTES NA COLUNA product_description_lenght COM O MODO\n",
    "\n",
    "df['product_description_lenght'].fillna(df['product_description_lenght'].mode(), inplace=True)\n",
    "\n",
    "df['product_description_lenght'].hist()\n"
   ]
  },
  {
   "cell_type": "code",
   "execution_count": 152,
   "metadata": {},
   "outputs": [
    {
     "data": {
      "text/plain": [
       "<AxesSubplot:>"
      ]
     },
     "execution_count": 152,
     "metadata": {},
     "output_type": "execute_result"
    },
    {
     "data": {
      "image/png": "[encoded data removed]",
      "text/plain": [
       "<Figure size 640x480 with 1 Axes>"
      ]
     },
     "metadata": {},
     "output_type": "display_data"
    }
   ],
   "source": [
    "df['product_photos_qty'].hist()"
   ]
  },
  {
   "cell_type": "code",
   "execution_count": 153,
   "metadata": {},
   "outputs": [
    {
     "data": {
      "text/plain": [
       "1.0"
      ]
     },
     "execution_count": 153,
     "metadata": {},
     "output_type": "execute_result"
    }
   ],
   "source": [
    "# Aqui estou retornando o valor mais frequente da coluna \"products_photos_qty\" \n",
    "df['product_photos_qty'].mode()[0]"
   ]
  },
  {
   "cell_type": "code",
   "execution_count": 154,
   "metadata": {},
   "outputs": [
    {
     "data": {
      "text/plain": [
       "1.0"
      ]
     },
     "execution_count": 154,
     "metadata": {},
     "output_type": "execute_result"
    }
   ],
   "source": [
    "# Aqui estou retornando a mediana(valor central) da coluna \"product_photos_qty\",pode ser útil para entender a tendência central dos valores dessa coluna e ter uma noção da distribuição dos dados.\n",
    "\n",
    "df['product_photos_qty'].median()\n"
   ]
  },
  {
   "cell_type": "code",
   "execution_count": 156,
   "metadata": {},
   "outputs": [],
   "source": [
    " # PREENCHENDO VALORES AUSENTES DE TODAS AS COLUNAS COM O MODO.\n",
    "\n",
    "df['product_photos_qty'].fillna(df['product_photos_qty'].mode()[0], inplace=True)\n",
    "df['product_description_lenght'].fillna(df['product_description_lenght'].mode()[0], inplace=True)\n",
    "df['product_weight_g'].fillna(df['product_weight_g'].mode()[0], inplace=True)         \n",
    "df['product_length_cm'].fillna(df['product_length_cm'].mode()[0], inplace=True)\n",
    "df['product_height_cm'].fillna(df['product_height_cm'].mode()[0], inplace=True) \n",
    "df['product_width_cm'].fillna(df['product_width_cm'].mode()[0], inplace=True) \n",
    "df['product_category_name'].fillna(df['product_category_name'].mode()[0], inplace=True)\n",
    "del df['product_category_name_english']"
   ]
  },
  {
   "cell_type": "code",
   "execution_count": 162,
   "metadata": {},
   "outputs": [],
   "source": [
    "# PREENCHE OS VALORES FALTANTES NAS COLUNAS 'review_comment_message' E 'review_comment_title' COM \"INDISPONÍVEL\"\n",
    "\n",
    "df['review_comment_message'].fillna(value=\"indisponível\", inplace=True)\n",
    "df['review_comment_title'].fillna(value=\"indisponível\", inplace=True)"
   ]
  },
  {
   "cell_type": "code",
   "execution_count": 165,
   "metadata": {},
   "outputs": [],
   "source": [
    "# CONVERTER AS COLUNAS RELACIONADA AO TEMPO, EM UMA ÚNICA COLUNA E ADICIONAR AO DATAFRAME.\n",
    "# converte as colunas especificadas em 'df' para o formato de data e hora\n",
    "\n",
    "columns_to_convert = ['order_purchase_timestamp', 'order_approved_at', 'order_delivered_carrier_date', 'order_delivered_customer_date', 'order_estimated_delivery_date', 'shipping_limit_date']\n",
    "\n",
    "df[columns_to_convert] = df[columns_to_convert].apply(pd.to_datetime)\n"
   ]
  },
  {
   "cell_type": "code",
   "execution_count": 168,
   "metadata": {},
   "outputs": [],
   "source": [
    "# REMOVENDO TODAS AS DATAS NULAS\n",
    "\n",
    "df.dropna(inplace=True)"
   ]
  },
  {
   "cell_type": "code",
   "execution_count": 169,
   "metadata": {},
   "outputs": [
    {
     "data": {
      "text/plain": [
       "order_id                         0\n",
       "order_item_id                    0\n",
       "product_id                       0\n",
       "seller_id                        0\n",
       "shipping_limit_date              0\n",
       "price                            0\n",
       "freight_value                    0\n",
       "product_category_name            0\n",
       "product_name_lenght              0\n",
       "product_description_lenght       0\n",
       "product_photos_qty               0\n",
       "product_weight_g                 0\n",
       "product_length_cm                0\n",
       "product_height_cm                0\n",
       "product_width_cm                 0\n",
       "seller_zip_code_prefix           0\n",
       "seller_city                      0\n",
       "seller_state                     0\n",
       "customer_id                      0\n",
       "order_status                     0\n",
       "order_purchase_timestamp         0\n",
       "order_approved_at                0\n",
       "order_delivered_carrier_date     0\n",
       "order_delivered_customer_date    0\n",
       "order_estimated_delivery_date    0\n",
       "customer_unique_id               0\n",
       "customer_zip_code_prefix         0\n",
       "customer_city                    0\n",
       "customer_state                   0\n",
       "review_id                        0\n",
       "review_score                     0\n",
       "review_comment_title             0\n",
       "review_comment_message           0\n",
       "review_creation_date             0\n",
       "review_answer_timestamp          0\n",
       "payment_sequential               0\n",
       "payment_type                     0\n",
       "payment_installments             0\n",
       "payment_value                    0\n",
       "seller_lat                       0\n",
       "seller_lng                       0\n",
       "customer_lat                     0\n",
       "customer_lng                     0\n",
       "dtype: int64"
      ]
     },
     "execution_count": 169,
     "metadata": {},
     "output_type": "execute_result"
    }
   ],
   "source": [
    "# Utilizando a função isnull podemos verificar todos os valores das colunas do df\n",
    "df.isnull().sum()"
   ]
  },
  {
   "cell_type": "code",
   "execution_count": null,
   "metadata": {},
   "outputs": [],
   "source": []
  },
  {
   "cell_type": "code",
   "execution_count": null,
   "metadata": {},
   "outputs": [],
   "source": []
  },
  {
   "cell_type": "code",
   "execution_count": null,
   "metadata": {},
   "outputs": [],
   "source": []
  }
 ],
 "metadata": {
  "kernelspec": {
   "display_name": "base",
   "language": "python",
   "name": "python3"
  },
  "language_info": {
   "codemirror_mode": {
    "name": "ipython",
    "version": 3
   },
   "file_extension": ".py",
   "mimetype": "text/x-python",
   "name": "python",
   "nbconvert_exporter": "python",
   "pygments_lexer": "ipython3",
   "version": "3.9.13"
  }
 },
 "nbformat": 4,
 "nbformat_minor": 2
}
